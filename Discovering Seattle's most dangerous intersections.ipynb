{
    "cells": [
        {
            "cell_type": "markdown",
            "metadata": {
                "collapsed": true
            },
            "source": "<h2>Discovering Seatlle's most dangerous intersections</h2>\n<strong>Leslie McHugh</strong>\n<p>August 2020</p>"
        },
        {
            "cell_type": "markdown",
            "metadata": {},
            "source": "<h3>Introduction:</h3>\n<p>In an effort to mitigate serious car accidents is any way possible, we will determine which intersections in Seattle are inherently dangerous by mapping serious collisions that happen at intersections regardless of road condition or driver speeding.</p><p> These finding will be used to evaluate the most dangerous intersections to reduce both the number of collisions and their severity.</p><p>This information is crucial to city officials, as a full understanding of those intersections that are most dangerous allows for the  proper allocating of monetary resources and manpower. It also lets city official address the most critical intersections first, saving time, money and possibly many lives.</p>"
        },
        {
            "cell_type": "markdown",
            "metadata": {},
            "source": "<h3>Data:</h3>\n<p>We will use accident data collected by the Seattle Police Dept. and Department of Transportation from 2004 to present detailing the severity of car accidents along with contributing factors and specific locations, intersections and lat. long coordinates. Meta data can be found here: https://s3.us.cloud-object-storage.appdomain.cloud/cf-courses-data/CognitiveClass/DP0701EN/version-2/Metadata.pdf</p><p>The data collected is very detailed and includes several features we can use to find the information needed.</p>\n\n|  Severity Code  | X | Y | JUNCTIONTYPE  |  WEATHER  |  ROADCOND  |  LIGHTCOND  |  SPEEDING  |\n|---:|:-------------|:-----------|:------|:------|:-----------|:------|:------|\n|The key ranking the severity of the collision  | Latitude | Longitude  |  Where the collision happened - intersection or block  | Weather conditions  | Road conditions  | Light conditions  | Whether the driver was speeding"
        },
        {
            "cell_type": "code",
            "execution_count": null,
            "metadata": {},
            "outputs": [],
            "source": ""
        }
    ],
    "metadata": {
        "kernelspec": {
            "display_name": "Python 3.6",
            "language": "python",
            "name": "python3"
        },
        "language_info": {
            "codemirror_mode": {
                "name": "ipython",
                "version": 3
            },
            "file_extension": ".py",
            "mimetype": "text/x-python",
            "name": "python",
            "nbconvert_exporter": "python",
            "pygments_lexer": "ipython3",
            "version": "3.6.9"
        }
    },
    "nbformat": 4,
    "nbformat_minor": 1
}